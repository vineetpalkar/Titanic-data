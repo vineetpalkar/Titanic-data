{
 "cells": [
  {
   "cell_type": "markdown",
   "id": "55c2958a",
   "metadata": {},
   "source": [
    "From the titanic data, we will see who survived and who did not."
   ]
  },
  {
   "cell_type": "code",
   "execution_count": 72,
   "id": "c7c21737",
   "metadata": {},
   "outputs": [],
   "source": [
    "import pandas as pd\n",
    "import numpy as np"
   ]
  },
  {
   "cell_type": "code",
   "execution_count": 73,
   "id": "81a7a091",
   "metadata": {},
   "outputs": [],
   "source": [
    "df= pd.read_csv(\"D:/iAnalyst/Machine Learning/Decision Tree/Task/titanic_train.csv\")"
   ]
  },
  {
   "cell_type": "code",
   "execution_count": 74,
   "id": "51ae47e3",
   "metadata": {
    "scrolled": false
   },
   "outputs": [
    {
     "data": {
      "text/html": [
       "<div>\n",
       "<style scoped>\n",
       "    .dataframe tbody tr th:only-of-type {\n",
       "        vertical-align: middle;\n",
       "    }\n",
       "\n",
       "    .dataframe tbody tr th {\n",
       "        vertical-align: top;\n",
       "    }\n",
       "\n",
       "    .dataframe thead th {\n",
       "        text-align: right;\n",
       "    }\n",
       "</style>\n",
       "<table border=\"1\" class=\"dataframe\">\n",
       "  <thead>\n",
       "    <tr style=\"text-align: right;\">\n",
       "      <th></th>\n",
       "      <th>PassengerId</th>\n",
       "      <th>Survived</th>\n",
       "      <th>Pclass</th>\n",
       "      <th>Name</th>\n",
       "      <th>Sex</th>\n",
       "      <th>Age</th>\n",
       "      <th>SibSp</th>\n",
       "      <th>Parch</th>\n",
       "      <th>Ticket</th>\n",
       "      <th>Fare</th>\n",
       "      <th>Cabin</th>\n",
       "      <th>Embarked</th>\n",
       "    </tr>\n",
       "  </thead>\n",
       "  <tbody>\n",
       "    <tr>\n",
       "      <th>0</th>\n",
       "      <td>1</td>\n",
       "      <td>0</td>\n",
       "      <td>3</td>\n",
       "      <td>Braund, Mr. Owen Harris</td>\n",
       "      <td>male</td>\n",
       "      <td>22.0</td>\n",
       "      <td>1</td>\n",
       "      <td>0</td>\n",
       "      <td>A/5 21171</td>\n",
       "      <td>7.2500</td>\n",
       "      <td>NaN</td>\n",
       "      <td>S</td>\n",
       "    </tr>\n",
       "    <tr>\n",
       "      <th>1</th>\n",
       "      <td>2</td>\n",
       "      <td>1</td>\n",
       "      <td>1</td>\n",
       "      <td>Cumings, Mrs. John Bradley (Florence Briggs Th...</td>\n",
       "      <td>female</td>\n",
       "      <td>38.0</td>\n",
       "      <td>1</td>\n",
       "      <td>0</td>\n",
       "      <td>PC 17599</td>\n",
       "      <td>71.2833</td>\n",
       "      <td>C85</td>\n",
       "      <td>C</td>\n",
       "    </tr>\n",
       "    <tr>\n",
       "      <th>2</th>\n",
       "      <td>3</td>\n",
       "      <td>1</td>\n",
       "      <td>3</td>\n",
       "      <td>Heikkinen, Miss. Laina</td>\n",
       "      <td>female</td>\n",
       "      <td>26.0</td>\n",
       "      <td>0</td>\n",
       "      <td>0</td>\n",
       "      <td>STON/O2. 3101282</td>\n",
       "      <td>7.9250</td>\n",
       "      <td>NaN</td>\n",
       "      <td>S</td>\n",
       "    </tr>\n",
       "    <tr>\n",
       "      <th>3</th>\n",
       "      <td>4</td>\n",
       "      <td>1</td>\n",
       "      <td>1</td>\n",
       "      <td>Futrelle, Mrs. Jacques Heath (Lily May Peel)</td>\n",
       "      <td>female</td>\n",
       "      <td>35.0</td>\n",
       "      <td>1</td>\n",
       "      <td>0</td>\n",
       "      <td>113803</td>\n",
       "      <td>53.1000</td>\n",
       "      <td>C123</td>\n",
       "      <td>S</td>\n",
       "    </tr>\n",
       "    <tr>\n",
       "      <th>4</th>\n",
       "      <td>5</td>\n",
       "      <td>0</td>\n",
       "      <td>3</td>\n",
       "      <td>Allen, Mr. William Henry</td>\n",
       "      <td>male</td>\n",
       "      <td>35.0</td>\n",
       "      <td>0</td>\n",
       "      <td>0</td>\n",
       "      <td>373450</td>\n",
       "      <td>8.0500</td>\n",
       "      <td>NaN</td>\n",
       "      <td>S</td>\n",
       "    </tr>\n",
       "  </tbody>\n",
       "</table>\n",
       "</div>"
      ],
      "text/plain": [
       "   PassengerId  Survived  Pclass  \\\n",
       "0            1         0       3   \n",
       "1            2         1       1   \n",
       "2            3         1       3   \n",
       "3            4         1       1   \n",
       "4            5         0       3   \n",
       "\n",
       "                                                Name     Sex   Age  SibSp  \\\n",
       "0                            Braund, Mr. Owen Harris    male  22.0      1   \n",
       "1  Cumings, Mrs. John Bradley (Florence Briggs Th...  female  38.0      1   \n",
       "2                             Heikkinen, Miss. Laina  female  26.0      0   \n",
       "3       Futrelle, Mrs. Jacques Heath (Lily May Peel)  female  35.0      1   \n",
       "4                           Allen, Mr. William Henry    male  35.0      0   \n",
       "\n",
       "   Parch            Ticket     Fare Cabin Embarked  \n",
       "0      0         A/5 21171   7.2500   NaN        S  \n",
       "1      0          PC 17599  71.2833   C85        C  \n",
       "2      0  STON/O2. 3101282   7.9250   NaN        S  \n",
       "3      0            113803  53.1000  C123        S  \n",
       "4      0            373450   8.0500   NaN        S  "
      ]
     },
     "execution_count": 74,
     "metadata": {},
     "output_type": "execute_result"
    }
   ],
   "source": [
    "df.head()"
   ]
  },
  {
   "cell_type": "markdown",
   "id": "33010fc6",
   "metadata": {},
   "source": [
    "# Data Cleaning\n",
    "\n",
    "Very important way of dealing with null values= #https://www.analyticsvidhya.com/blog/2021/05/dealing-with-missing-values-in-python-a-complete-guide/"
   ]
  },
  {
   "cell_type": "code",
   "execution_count": 75,
   "id": "1a065449",
   "metadata": {},
   "outputs": [
    {
     "name": "stdout",
     "output_type": "stream",
     "text": [
      "<class 'pandas.core.frame.DataFrame'>\n",
      "RangeIndex: 891 entries, 0 to 890\n",
      "Data columns (total 12 columns):\n",
      " #   Column       Non-Null Count  Dtype  \n",
      "---  ------       --------------  -----  \n",
      " 0   PassengerId  891 non-null    int64  \n",
      " 1   Survived     891 non-null    int64  \n",
      " 2   Pclass       891 non-null    int64  \n",
      " 3   Name         891 non-null    object \n",
      " 4   Sex          891 non-null    object \n",
      " 5   Age          714 non-null    float64\n",
      " 6   SibSp        891 non-null    int64  \n",
      " 7   Parch        891 non-null    int64  \n",
      " 8   Ticket       891 non-null    object \n",
      " 9   Fare         891 non-null    float64\n",
      " 10  Cabin        204 non-null    object \n",
      " 11  Embarked     889 non-null    object \n",
      "dtypes: float64(2), int64(5), object(5)\n",
      "memory usage: 83.7+ KB\n",
      "PassengerId      0\n",
      "Survived         0\n",
      "Pclass           0\n",
      "Name             0\n",
      "Sex              0\n",
      "Age            177\n",
      "SibSp            0\n",
      "Parch            0\n",
      "Ticket           0\n",
      "Fare             0\n",
      "Cabin          687\n",
      "Embarked         2\n",
      "dtype: int64\n"
     ]
    }
   ],
   "source": [
    "df.info()  \n",
    "\n",
    "#Another way of finding missing values  \n",
    "\n",
    "print(df.isnull().sum())    #Age and Cabin has missing values"
   ]
  },
  {
   "cell_type": "code",
   "execution_count": 76,
   "id": "10874d10",
   "metadata": {},
   "outputs": [
    {
     "data": {
      "text/html": [
       "<div>\n",
       "<style scoped>\n",
       "    .dataframe tbody tr th:only-of-type {\n",
       "        vertical-align: middle;\n",
       "    }\n",
       "\n",
       "    .dataframe tbody tr th {\n",
       "        vertical-align: top;\n",
       "    }\n",
       "\n",
       "    .dataframe thead th {\n",
       "        text-align: right;\n",
       "    }\n",
       "</style>\n",
       "<table border=\"1\" class=\"dataframe\">\n",
       "  <thead>\n",
       "    <tr style=\"text-align: right;\">\n",
       "      <th></th>\n",
       "      <th>Survived</th>\n",
       "      <th>Pclass</th>\n",
       "      <th>Sex</th>\n",
       "      <th>Age</th>\n",
       "      <th>SibSp</th>\n",
       "      <th>Parch</th>\n",
       "      <th>Fare</th>\n",
       "      <th>Embarked</th>\n",
       "    </tr>\n",
       "  </thead>\n",
       "  <tbody>\n",
       "    <tr>\n",
       "      <th>0</th>\n",
       "      <td>0</td>\n",
       "      <td>3</td>\n",
       "      <td>male</td>\n",
       "      <td>22.0</td>\n",
       "      <td>1</td>\n",
       "      <td>0</td>\n",
       "      <td>7.2500</td>\n",
       "      <td>S</td>\n",
       "    </tr>\n",
       "    <tr>\n",
       "      <th>1</th>\n",
       "      <td>1</td>\n",
       "      <td>1</td>\n",
       "      <td>female</td>\n",
       "      <td>38.0</td>\n",
       "      <td>1</td>\n",
       "      <td>0</td>\n",
       "      <td>71.2833</td>\n",
       "      <td>C</td>\n",
       "    </tr>\n",
       "    <tr>\n",
       "      <th>2</th>\n",
       "      <td>1</td>\n",
       "      <td>3</td>\n",
       "      <td>female</td>\n",
       "      <td>26.0</td>\n",
       "      <td>0</td>\n",
       "      <td>0</td>\n",
       "      <td>7.9250</td>\n",
       "      <td>S</td>\n",
       "    </tr>\n",
       "    <tr>\n",
       "      <th>3</th>\n",
       "      <td>1</td>\n",
       "      <td>1</td>\n",
       "      <td>female</td>\n",
       "      <td>35.0</td>\n",
       "      <td>1</td>\n",
       "      <td>0</td>\n",
       "      <td>53.1000</td>\n",
       "      <td>S</td>\n",
       "    </tr>\n",
       "    <tr>\n",
       "      <th>4</th>\n",
       "      <td>0</td>\n",
       "      <td>3</td>\n",
       "      <td>male</td>\n",
       "      <td>35.0</td>\n",
       "      <td>0</td>\n",
       "      <td>0</td>\n",
       "      <td>8.0500</td>\n",
       "      <td>S</td>\n",
       "    </tr>\n",
       "  </tbody>\n",
       "</table>\n",
       "</div>"
      ],
      "text/plain": [
       "   Survived  Pclass     Sex   Age  SibSp  Parch     Fare Embarked\n",
       "0         0       3    male  22.0      1      0   7.2500        S\n",
       "1         1       1  female  38.0      1      0  71.2833        C\n",
       "2         1       3  female  26.0      0      0   7.9250        S\n",
       "3         1       1  female  35.0      1      0  53.1000        S\n",
       "4         0       3    male  35.0      0      0   8.0500        S"
      ]
     },
     "execution_count": 76,
     "metadata": {},
     "output_type": "execute_result"
    }
   ],
   "source": [
    "##deleting non required variables. Also Cabin as it has a lot of null values\n",
    "\n",
    "todrop= ['Name','PassengerId','Ticket','Cabin']  \n",
    "df= df.drop(todrop,axis=1)\n",
    "df.head()"
   ]
  },
  {
   "cell_type": "code",
   "execution_count": 77,
   "id": "90e81d34",
   "metadata": {},
   "outputs": [
    {
     "data": {
      "text/plain": [
       "<bound method Series.count of 0      False\n",
       "1      False\n",
       "2      False\n",
       "3      False\n",
       "4      False\n",
       "       ...  \n",
       "886    False\n",
       "887    False\n",
       "888    False\n",
       "889    False\n",
       "890    False\n",
       "Name: Embarked, Length: 891, dtype: bool>"
      ]
     },
     "execution_count": 77,
     "metadata": {},
     "output_type": "execute_result"
    }
   ],
   "source": [
    "#filling the missing values by their mode\n",
    "\n",
    "df['Embarked']=df['Embarked'].fillna(df['Embarked'].mode())\n",
    "df.Embarked.isnull().count"
   ]
  },
  {
   "cell_type": "code",
   "execution_count": 78,
   "id": "f55726c7",
   "metadata": {},
   "outputs": [],
   "source": [
    "#filling the missing ages by their median\n",
    "\n",
    "df['Age']=df['Age'].fillna(df['Age'].median())  \n",
    "#df.info()"
   ]
  },
  {
   "cell_type": "markdown",
   "id": "124b59cf",
   "metadata": {},
   "source": [
    "## Converting Categorical Features \n",
    "\n",
    "We'll need to convert categorical features to dummy variables using pandas! Otherwise our machine learning algorithm won't be able to directly take in those features as inputs."
   ]
  },
  {
   "cell_type": "code",
   "execution_count": 79,
   "id": "a5ee123e",
   "metadata": {},
   "outputs": [
    {
     "data": {
      "text/plain": [
       "0      2\n",
       "1      0\n",
       "2      2\n",
       "3      2\n",
       "4      2\n",
       "      ..\n",
       "886    2\n",
       "887    2\n",
       "888    2\n",
       "889    0\n",
       "890    1\n",
       "Name: Embarked, Length: 891, dtype: int32"
      ]
     },
     "execution_count": 79,
     "metadata": {},
     "output_type": "execute_result"
    }
   ],
   "source": [
    "#Using Label encoding\n",
    "from sklearn.preprocessing import LabelEncoder\n",
    "\n",
    "labEn= LabelEncoder()\n",
    "df['Sex'] = labEn.fit_transform(df['Sex'])  \n",
    "#df['Sex']  #converted to 0= female, 1=male\n",
    "\n",
    "df.Embarked =labEn.fit_transform(df['Embarked'])\n",
    "df.Embarked"
   ]
  },
  {
   "cell_type": "code",
   "execution_count": 80,
   "id": "e1c113f9",
   "metadata": {},
   "outputs": [
    {
     "data": {
      "text/plain": [
       "(891, 8)"
      ]
     },
     "execution_count": 80,
     "metadata": {},
     "output_type": "execute_result"
    }
   ],
   "source": [
    "df.shape"
   ]
  },
  {
   "cell_type": "code",
   "execution_count": null,
   "id": "002d2e42",
   "metadata": {},
   "outputs": [],
   "source": []
  },
  {
   "cell_type": "markdown",
   "id": "1a3dae52",
   "metadata": {},
   "source": [
    "# Training the model"
   ]
  },
  {
   "cell_type": "code",
   "execution_count": 81,
   "id": "8143b4fd",
   "metadata": {},
   "outputs": [],
   "source": [
    "from sklearn.model_selection import train_test_split\n",
    "\n",
    "from sklearn.metrics import auc, roc_auc_score, accuracy_score, classification_report\n",
    "import matplotlib.pyplot as plt\n",
    "\n",
    "from sklearn.model_selection import GridSearchCV,RandomizedSearchCV,RepeatedStratifiedKFold #use it while doing grid search"
   ]
  },
  {
   "cell_type": "code",
   "execution_count": 50,
   "id": "632b612c",
   "metadata": {},
   "outputs": [],
   "source": [
    "#Try using Grid search. It uses all the possible combination of parameters. a dict needs to be created first- check google\n",
    "#dtree= DecisionTreeClassifier()\n",
    "#GridSearchCV(dtree,cv=10)"
   ]
  },
  {
   "cell_type": "code",
   "execution_count": 82,
   "id": "90f3bba4",
   "metadata": {},
   "outputs": [],
   "source": [
    "X= df.drop('Survived', axis=1)\n",
    "y= df['Survived']\n",
    "\n",
    "X_train, X_test, y_train, y_test = train_test_split(X,y, test_size=0.20,random_state=101)"
   ]
  },
  {
   "cell_type": "markdown",
   "id": "950ee900",
   "metadata": {},
   "source": [
    "# Trying for Decision tree, RF, Adaboost and gradient boosting on the titanic data"
   ]
  },
  {
   "cell_type": "code",
   "execution_count": 129,
   "id": "fbf57d89",
   "metadata": {},
   "outputs": [],
   "source": [
    "from sklearn.tree import DecisionTreeClassifier\n",
    "from sklearn.ensemble import RandomForestClassifier,AdaBoostClassifier,GradientBoostingClassifier"
   ]
  },
  {
   "cell_type": "code",
   "execution_count": 52,
   "id": "4e9ac829",
   "metadata": {},
   "outputs": [
    {
     "data": {
      "text/plain": [
       "0.8044692737430168"
      ]
     },
     "execution_count": 52,
     "metadata": {},
     "output_type": "execute_result"
    }
   ],
   "source": [
    "#Fitting decision tree\n",
    "dtree= DecisionTreeClassifier(min_samples_leaf=10,random_state=101)\n",
    "dtree.fit(X_train,y_train)\n",
    "y_pred = dtree.predict(X_test)\n",
    "accuracy_score(y_test, y_pred)"
   ]
  },
  {
   "cell_type": "markdown",
   "id": "281872f7",
   "metadata": {},
   "source": [
    "OR"
   ]
  },
  {
   "cell_type": "code",
   "execution_count": null,
   "id": "e346b258",
   "metadata": {},
   "outputs": [],
   "source": [
    "#Fit a Random Forest model\n",
    "rf = RandomForestClassifier(n_estimators=100, max_features=4,\n",
    "                             max_depth=10,min_samples_split=20) #max_features=4\n",
    "rf.fit(X_train, y_train)\n",
    "y_pred = rf.predict(X_test)\n",
    "accuracy_score(y_test, y_pred)\n",
    "print(rf)"
   ]
  },
  {
   "cell_type": "markdown",
   "id": "a7676e5d",
   "metadata": {},
   "source": [
    "OR"
   ]
  },
  {
   "cell_type": "code",
   "execution_count": null,
   "id": "63dc179f",
   "metadata": {},
   "outputs": [],
   "source": [
    "# Fit a AdaBoost model\n",
    "ada = AdaBoostClassifier(n_estimators=100,learning_rate=0.3)\n",
    "ada.fit(X_train, y_train)\n",
    "y_pred = ada.predict(X_test)\n",
    "print(accuracy_score(y_test, y_pred))\n",
    "print(ada)"
   ]
  },
  {
   "cell_type": "markdown",
   "id": "d0fe4861",
   "metadata": {},
   "source": [
    "OR"
   ]
  },
  {
   "cell_type": "code",
   "execution_count": 127,
   "id": "e6fcebc8",
   "metadata": {},
   "outputs": [
    {
     "name": "stdout",
     "output_type": "stream",
     "text": [
      "0.8379888268156425\n",
      "GradientBoostingClassifier(random_state=6)\n"
     ]
    }
   ],
   "source": [
    "#Fit a Gradient Boosting model\n",
    "gb = GradientBoostingClassifier(n_estimators=100,max_depth=3, random_state=6)\n",
    "gb.fit(X_train, y_train)\n",
    "y_pred = gb.predict(X_test)\n",
    "print(accuracy_score(y_test, y_pred))\n",
    "print(gb)"
   ]
  },
  {
   "cell_type": "raw",
   "id": "c08ee2ae",
   "metadata": {},
   "source": [
    "#Finding the best random state for a Gradient Boosting model\n",
    "\n",
    "from tqdm import tqdm  #to measure time\n",
    "accuracy=[]\n",
    "for i in tqdm(range(1,10)):\n",
    "    \n",
    "    clf = GradientBoostingClassifier(n_estimators=100,max_depth=3, random_state=i)\n",
    "    clf.fit(X_train, y_train)\n",
    "    y_pred = clf.predict(X_test)\n",
    "    accuracy.append(accuracy_score(y_test, y_pred))\n",
    "\n",
    "#for random state 5 the model was giving best accuracy"
   ]
  },
  {
   "cell_type": "code",
   "execution_count": 125,
   "id": "3da5aebc",
   "metadata": {},
   "outputs": [
    {
     "name": "stdout",
     "output_type": "stream",
     "text": [
      "0.8379888268156425\n"
     ]
    },
    {
     "data": {
      "text/plain": [
       "[<matplotlib.lines.Line2D at 0x257ffb7e460>]"
      ]
     },
     "execution_count": 125,
     "metadata": {},
     "output_type": "execute_result"
    },
    {
     "data": {
      "image/png": "[encoded data removed]",
      "text/plain": [
       "<Figure size 432x288 with 1 Axes>"
      ]
     },
     "metadata": {
      "needs_background": "light"
     },
     "output_type": "display_data"
    }
   ],
   "source": [
    "print(max(accuracy))\n",
    "plt.plot(accuracy)"
   ]
  },
  {
   "cell_type": "code",
   "execution_count": 85,
   "id": "d7516812",
   "metadata": {},
   "outputs": [
    {
     "name": "stdout",
     "output_type": "stream",
     "text": [
      "              precision    recall  f1-score   support\n",
      "\n",
      "           0       0.81      0.92      0.86        99\n",
      "           1       0.88      0.72      0.79        80\n",
      "\n",
      "    accuracy                           0.83       179\n",
      "   macro avg       0.84      0.82      0.83       179\n",
      "weighted avg       0.84      0.83      0.83       179\n",
      "\n"
     ]
    }
   ],
   "source": [
    "print(classification_report(y_test, y_pred))"
   ]
  },
  {
   "cell_type": "code",
   "execution_count": 86,
   "id": "beefd3ca",
   "metadata": {},
   "outputs": [
    {
     "data": {
      "text/plain": [
       "0.8220959595959596"
      ]
     },
     "execution_count": 86,
     "metadata": {},
     "output_type": "execute_result"
    }
   ],
   "source": [
    "roc_auc_score(y_test, y_pred) \n",
    "\n",
    "#The roc auc score is close to the accuracy, that means data is not much imbalanced"
   ]
  },
  {
   "cell_type": "markdown",
   "id": "eca13bad",
   "metadata": {},
   "source": [
    "# Building model on the validation dataset"
   ]
  },
  {
   "cell_type": "code",
   "execution_count": 87,
   "id": "0fd4c43c",
   "metadata": {},
   "outputs": [],
   "source": [
    "#Performing the same data cleaning and preprocessing techniques as for train data.\n",
    "t= pd.read_csv(\"D:/iAnalyst/Machine Learning/Decision Tree/Task/titanic_test.csv\")\n",
    "test= t.copy()\n",
    "\n",
    "todrop= ['Name','PassengerId','Ticket','Cabin']  \n",
    "test= test.drop(todrop,axis=1)\n",
    "test.head()\n",
    "\n",
    "test['Embarked']=test['Embarked'].fillna(test['Embarked'].mode())\n",
    "test.Embarked.isnull().count\n",
    "\n",
    "test['Age']=test['Age'].fillna(test['Age'].median())\n",
    "test['Fare']=test['Fare'].fillna(test['Fare'].mean())\n",
    "\n",
    "test['Sex'] = labEn.fit_transform(test['Sex']) \n",
    "#print(X_test['Sex'])\n",
    "\n",
    "test.Embarked =labEn.fit_transform(test['Embarked'])"
   ]
  },
  {
   "cell_type": "code",
   "execution_count": 88,
   "id": "4ca99170",
   "metadata": {},
   "outputs": [],
   "source": [
    "#test.isnull().sum()"
   ]
  },
  {
   "cell_type": "code",
   "execution_count": 92,
   "id": "85c7bc08",
   "metadata": {},
   "outputs": [],
   "source": [
    "pred = clf.predict(test)"
   ]
  },
  {
   "cell_type": "code",
   "execution_count": 93,
   "id": "229ea467",
   "metadata": {},
   "outputs": [],
   "source": [
    "t['Survived']= pred"
   ]
  },
  {
   "cell_type": "code",
   "execution_count": 94,
   "id": "920c7e0e",
   "metadata": {},
   "outputs": [],
   "source": [
    "output= t[['PassengerId','Survived']]\n",
    "output.to_csv('Submission4.csv', index=None)"
   ]
  },
  {
   "cell_type": "code",
   "execution_count": null,
   "id": "a817a2bf",
   "metadata": {},
   "outputs": [],
   "source": [
    "## Got 0.75119 accuracy when submitted to Kaggle "
   ]
  },
  {
   "cell_type": "code",
   "execution_count": null,
   "id": "cbcea6dc",
   "metadata": {},
   "outputs": [],
   "source": []
  },
  {
   "cell_type": "code",
   "execution_count": null,
   "id": "890530b1",
   "metadata": {},
   "outputs": [],
   "source": []
  }
 ],
 "metadata": {
  "kernelspec": {
   "display_name": "Python 3",
   "language": "python",
   "name": "python3"
  },
  "language_info": {
   "codemirror_mode": {
    "name": "ipython",
    "version": 3
   },
   "file_extension": ".py",
   "mimetype": "text/x-python",
   "name": "python",
   "nbconvert_exporter": "python",
   "pygments_lexer": "ipython3",
   "version": "3.8.8"
  }
 },
 "nbformat": 4,
 "nbformat_minor": 5
}
